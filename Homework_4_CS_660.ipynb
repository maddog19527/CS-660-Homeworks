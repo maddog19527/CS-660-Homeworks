{
  "nbformat": 4,
  "nbformat_minor": 0,
  "metadata": {
    "colab": {
      "provenance": [],
      "authorship_tag": "ABX9TyMVKDAXbMyfxrRhknfDA/oT",
      "include_colab_link": true
    },
    "kernelspec": {
      "name": "python3",
      "display_name": "Python 3"
    },
    "language_info": {
      "name": "python"
    }
  },
  "cells": [
    {
      "cell_type": "markdown",
      "metadata": {
        "id": "view-in-github",
        "colab_type": "text"
      },
      "source": [
        "<a href=\"https://colab.research.google.com/github/maddog19527/CS-660-Homeworks/blob/main/Homework_4_CS_660.ipynb\" target=\"_parent\"><img src=\"https://colab.research.google.com/assets/colab-badge.svg\" alt=\"Open In Colab\"/></a>"
      ]
    },
    {
      "cell_type": "markdown",
      "source": [
        "Method #1-Using PCA to work through each mathematical step"
      ],
      "metadata": {
        "id": "DAR5F6cDulto"
      }
    },
    {
      "cell_type": "code",
      "execution_count": 13,
      "metadata": {
        "colab": {
          "base_uri": "https://localhost:8080/",
          "height": 482
        },
        "id": "EEWoyJ_R3wLl",
        "outputId": "0b7e76ce-5aef-4881-e08d-c7d841302707"
      },
      "outputs": [
        {
          "output_type": "stream",
          "name": "stdout",
          "text": [
            "[[ 2.73973463  0.84588749]\n",
            " [-2.42276811  1.22785797]\n",
            " [-0.31696652 -2.07374546]]\n"
          ]
        },
        {
          "output_type": "display_data",
          "data": {
            "text/plain": [
              "<Figure size 640x480 with 1 Axes>"
            ],
            "image/png": "[encoded data removed]"
          },
          "metadata": {}
        }
      ],
      "source": [
        "from re import M\n",
        "import numpy as np\n",
        "import pandas as pd\n",
        "import matplotlib.pyplot as plt\n",
        "from sklearn.decomposition import PCA\n",
        "from sklearn.preprocessing import StandardScaler\n",
        "from numpy import random\n",
        "numbers=np.random.uniform(1, 5, size=(10,3))\n",
        "Rounded_Data=np.round_(numbers,1)\n",
        "\n",
        "'''Step 0-Standardize Data'''\n",
        "mean=np.mean(Rounded_Data,axis=0)\n",
        "st_dv=np.std(Rounded_Data, axis=0)\n",
        "standard_data=(Rounded_Data-mean)/st_dv\n",
        "\n",
        "'''Step 1-Compute the Covariance Matrix'''\n",
        "Covariance_Matrix=np.cov(standard_data.T)\n",
        "Rounded_Cov=np.round(Covariance_Matrix,2)\n",
        "\n",
        "\n",
        "'''Step 2-Compute the Eigenvalues and Eigenvectors'''\n",
        "values, vectors=np.linalg.eig(Covariance_Matrix)\n",
        "\n",
        "'''Step 3-Sort Eigenvalues and Eigenvectors'''\n",
        "idx=values.argsort()[::-1]\n",
        "Eigenvalues=values[idx]\n",
        "Eigenvectors=vectors[:,idx]\n",
        "\n",
        "'''Step 4-Project Eigen_Data onto Principal Components'''\n",
        "Projection=Eigenvectors.T.dot(standard_data.T)\n",
        "\n",
        "\n",
        "'''Step 5-Find Principal Components'''\n",
        "pca=PCA(n_components=2)\n",
        "Final=pca.fit_transform(Projection.real)\n",
        "print(Final)\n",
        "\n",
        "fig=plt.scatter(Final[:, 0],Final[:, 1])\n",
        "plt.show()\n",
        "\n",
        "\n"
      ]
    },
    {
      "cell_type": "markdown",
      "source": [
        "Method 2"
      ],
      "metadata": {
        "id": "GJQj8oy5ukr-"
      }
    },
    {
      "cell_type": "code",
      "source": [
        "from re import M\n",
        "import numpy as np\n",
        "import pandas as pd\n",
        "import matplotlib.pyplot as plt\n",
        "from sklearn.decomposition import PCA\n",
        "from sklearn.preprocessing import StandardScaler\n",
        "import seaborn as sns\n",
        "from numpy import random\n",
        "numbers=np.random.uniform(1, 5, size=(10,4))\n",
        "Rounded_Data=np.round_(numbers,1)\n",
        "print(Rounded_Data)\n",
        "\n",
        "Standard_Data=(Rounded_Data-Rounded_Data.mean(axis=0)/Rounded_Data.std(axis=0))\n",
        "\n",
        "Covariance=np.cov(Standard_Data,ddof=1, rowvar=False)\n",
        "\n",
        "values, vectors=np.linalg.eig(Covariance)\n",
        "\n",
        "order=values.argsort()[::-1]\n",
        "\n",
        "sort_values=values[order]\n",
        "sort_vectors=vectors[:,order]\n",
        "\n",
        "\n",
        "variance=sort_values/np.sum(sort_values)\n",
        "\n",
        "k=2\n",
        "reduced_data=np.matmul(Standard_Data, sort_vectors[:,:k])\n",
        "print(reduced_data)\n",
        "\n",
        "plt.scatter(reduced_data[:,0], reduced_data[:,1])\n",
        "plt.show\n"
      ],
      "metadata": {
        "colab": {
          "base_uri": "https://localhost:8080/",
          "height": 946
        },
        "id": "TJ35Mi1zue9W",
        "outputId": "aaec42ef-83eb-4108-d6b1-954e00d8d4ce"
      },
      "execution_count": 15,
      "outputs": [
        {
          "output_type": "stream",
          "name": "stdout",
          "text": [
            "[[3.3 4.  3.  2.8]\n",
            " [4.9 4.6 2.4 2.2]\n",
            " [1.6 1.5 3.4 3.1]\n",
            " [2.2 4.2 1.6 4.6]\n",
            " [2.8 2.  2.1 1.4]\n",
            " [4.8 2.5 2.3 3.4]\n",
            " [4.2 1.5 2.7 4. ]\n",
            " [4.6 1.5 3.9 4.8]\n",
            " [4.9 2.3 1.4 1. ]\n",
            " [3.6 2.3 3.  4.1]]\n",
            "[[ 0.63599409 -1.29453959]\n",
            " [ 2.06948336 -0.68116843]\n",
            " [-1.25493163 -0.57658285]\n",
            " [-0.51387336 -2.67735269]\n",
            " [ 1.13393792 -0.07287011]\n",
            " [ 0.32708695  0.55606315]\n",
            " [-0.86847527  0.85110027]\n",
            " [-1.8163998   1.16188774]\n",
            " [ 2.49171029  1.03321318]\n",
            " [-0.94028278 -0.08862173]]\n"
          ]
        },
        {
          "output_type": "execute_result",
          "data": {
            "text/plain": [
              "<function matplotlib.pyplot.show(close=None, block=None)>"
            ],
            "text/html": [
              "<div style=\"max-width:800px; border: 1px solid var(--colab-border-color);\"><style>\n",
              "      pre.function-repr-contents {\n",
              "        overflow-x: auto;\n",
              "        padding: 8px 12px;\n",
              "        max-height: 500px;\n",
              "      }\n",
              "\n",
              "      pre.function-repr-contents.function-repr-contents-collapsed {\n",
              "        cursor: pointer;\n",
              "        max-height: 100px;\n",
              "      }\n",
              "    </style>\n",
              "    <pre style=\"white-space: initial; background:\n",
              "         var(--colab-secondary-surface-color); padding: 8px 12px;\n",
              "         border-bottom: 1px solid var(--colab-border-color);\"><b>matplotlib.pyplot.show</b><br/>def show(*args, **kwargs)</pre><pre class=\"function-repr-contents function-repr-contents-collapsed\" style=\"\"><a class=\"filepath\" style=\"display:none\" href=\"#\">/usr/local/lib/python3.10/dist-packages/matplotlib/pyplot.py</a>Display all open figures.\n",
              "\n",
              "Parameters\n",
              "----------\n",
              "block : bool, optional\n",
              "    Whether to wait for all figures to be closed before returning.\n",
              "\n",
              "    If `True` block and run the GUI main loop until all figure windows\n",
              "    are closed.\n",
              "\n",
              "    If `False` ensure that all figure windows are displayed and return\n",
              "    immediately.  In this case, you are responsible for ensuring\n",
              "    that the event loop is running to have responsive figures.\n",
              "\n",
              "    Defaults to True in non-interactive mode and to False in interactive\n",
              "    mode (see `.pyplot.isinteractive`).\n",
              "\n",
              "See Also\n",
              "--------\n",
              "ion : Enable interactive mode, which shows / updates the figure after\n",
              "      every plotting command, so that calling ``show()`` is not necessary.\n",
              "ioff : Disable interactive mode.\n",
              "savefig : Save the figure to an image file instead of showing it on screen.\n",
              "\n",
              "Notes\n",
              "-----\n",
              "**Saving figures to file and showing a window at the same time**\n",
              "\n",
              "If you want an image file as well as a user interface window, use\n",
              "`.pyplot.savefig` before `.pyplot.show`. At the end of (a blocking)\n",
              "``show()`` the figure is closed and thus unregistered from pyplot. Calling\n",
              "`.pyplot.savefig` afterwards would save a new and thus empty figure. This\n",
              "limitation of command order does not apply if the show is non-blocking or\n",
              "if you keep a reference to the figure and use `.Figure.savefig`.\n",
              "\n",
              "**Auto-show in jupyter notebooks**\n",
              "\n",
              "The jupyter backends (activated via ``%matplotlib inline``,\n",
              "``%matplotlib notebook``, or ``%matplotlib widget``), call ``show()`` at\n",
              "the end of every cell by default. Thus, you usually don&#x27;t have to call it\n",
              "explicitly there.</pre>\n",
              "      <script>\n",
              "      if (google.colab.kernel.accessAllowed && google.colab.files && google.colab.files.view) {\n",
              "        for (const element of document.querySelectorAll('.filepath')) {\n",
              "          element.style.display = 'block'\n",
              "          element.onclick = (event) => {\n",
              "            event.preventDefault();\n",
              "            event.stopPropagation();\n",
              "            google.colab.files.view(element.textContent, 401);\n",
              "          };\n",
              "        }\n",
              "      }\n",
              "      for (const element of document.querySelectorAll('.function-repr-contents')) {\n",
              "        element.onclick = (event) => {\n",
              "          event.preventDefault();\n",
              "          event.stopPropagation();\n",
              "          element.classList.toggle('function-repr-contents-collapsed');\n",
              "        };\n",
              "      }\n",
              "      </script>\n",
              "      </div>"
            ]
          },
          "metadata": {},
          "execution_count": 15
        },
        {
          "output_type": "display_data",
          "data": {
            "text/plain": [
              "<Figure size 640x480 with 1 Axes>"
            ],
            "image/png": "[encoded data removed]"
          },
          "metadata": {}
        }
      ]
    }
  ]
}