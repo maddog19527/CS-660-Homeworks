{
  "nbformat": 4,
  "nbformat_minor": 0,
  "metadata": {
    "colab": {
      "provenance": [],
      "authorship_tag": "ABX9TyOPMouxsbwgjFDgjoPDRbNR",
      "include_colab_link": true
    },
    "kernelspec": {
      "name": "python3",
      "display_name": "Python 3"
    },
    "language_info": {
      "name": "python"
    }
  },
  "cells": [
    {
      "cell_type": "markdown",
      "metadata": {
        "id": "view-in-github",
        "colab_type": "text"
      },
      "source": [
        "<a href=\"https://colab.research.google.com/github/maddog19527/CS-660-Homeworks/blob/main/Homework_3_CS_660.ipynb\" target=\"_parent\"><img src=\"https://colab.research.google.com/assets/colab-badge.svg\" alt=\"Open In Colab\"/></a>"
      ]
    },
    {
      "cell_type": "code",
      "execution_count": 1,
      "metadata": {
        "id": "o5lyIAIq0sdx",
        "colab": {
          "base_uri": "https://localhost:8080/"
        },
        "outputId": "041adb22-8869-4c1f-c3af-29fe4330355b"
      },
      "outputs": [
        {
          "output_type": "stream",
          "name": "stdout",
          "text": [
            "Mapreduce: 1\n",
            "is: 3\n",
            "simple: 1\n",
            "yet: 1\n",
            "powerful: 2\n",
            "Godzilla: 1\n",
            "too: 1\n",
            "to: 1\n",
            "be: 1\n",
            "left: 1\n",
            "alive: 1\n",
            "There: 1\n",
            "no: 1\n",
            "drummer: 1\n",
            "better: 1\n",
            "than: 1\n",
            "Neil: 1\n",
            "Pert: 1\n",
            "Difficult: 1\n",
            "conversations: 1\n",
            "are: 1\n",
            "necessary: 1\n",
            "for: 1\n",
            "emotional: 1\n",
            "growth: 1\n",
            "Good: 1\n",
            "fences: 1\n",
            "make: 1\n",
            "good: 1\n",
            "neighbors: 1\n"
          ]
        }
      ],
      "source": [
        "import numpy as np\n",
        "import pandas as pd\n",
        "import math\n",
        "from collections import defaultdict\n",
        "import sys\n",
        "\n",
        "word_count=defaultdict(int)\n",
        "\n",
        "\n",
        "documents=[\n",
        "    'Mapreduce is simple yet powerful',\n",
        "    'Godzilla is too powerful to be left alive',\n",
        "    'There is no drummer better than Neil Pert',\n",
        "    'Difficult conversations are necessary for emotional growth',\n",
        "    'Good fences make good neighbors'\n",
        "]\n",
        "\n",
        "def mapper(documents):\n",
        "  mapped=[]\n",
        "  for line in documents:\n",
        "    words=line.split()\n",
        "    for i in words:\n",
        "        new_word=(i,1)\n",
        "        mapped.append(new_word)\n",
        "  return (mapped)\n",
        "\n",
        "def shuffle(mapped):\n",
        "    shuffled=defaultdict(list)\n",
        "    for word,count in mapped:\n",
        "      shuffled[word].append(count)\n",
        "    return(shuffled)\n",
        "\n",
        "def reducer(shuffled):\n",
        "  reduced={}\n",
        "  for word,counts in shuffled.items():\n",
        "    reduced[word]=sum(counts)\n",
        "  return(reduced)\n",
        "\n",
        "mapped_data=mapper(documents)\n",
        "shuffled_data=shuffle(mapped_data)\n",
        "reduced_data=reducer(shuffled_data)\n",
        "for word, count in reduced_data.items():\n",
        "    print(f'{word}: {count}')\n",
        "\n",
        "\n",
        "\n",
        "\n",
        "\n",
        "\n",
        "\n",
        "\n",
        "\n"
      ]
    }
  ]
}