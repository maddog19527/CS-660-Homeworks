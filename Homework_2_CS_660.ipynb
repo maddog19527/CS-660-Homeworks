{
  "nbformat": 4,
  "nbformat_minor": 0,
  "metadata": {
    "colab": {
      "provenance": [],
      "authorship_tag": "ABX9TyPsCdZC7gscxGaFiQ7S88ZF",
      "include_colab_link": true
    },
    "kernelspec": {
      "name": "python3",
      "display_name": "Python 3"
    },
    "language_info": {
      "name": "python"
    }
  },
  "cells": [
    {
      "cell_type": "markdown",
      "metadata": {
        "id": "view-in-github",
        "colab_type": "text"
      },
      "source": [
        "<a href=\"https://colab.research.google.com/github/maddog19527/CS-660-Homeworks/blob/main/Homework_2_CS_660.ipynb\" target=\"_parent\"><img src=\"https://colab.research.google.com/assets/colab-badge.svg\" alt=\"Open In Colab\"/></a>"
      ]
    },
    {
      "cell_type": "code",
      "execution_count": null,
      "metadata": {
        "colab": {
          "base_uri": "https://localhost:8080/"
        },
        "id": "D5zeOMhhpDwW",
        "outputId": "9a3439f3-568c-4e94-ffa6-c97e8048c2f6"
      },
      "outputs": [
        {
          "output_type": "stream",
          "name": "stdout",
          "text": [
            "      A     B     C\n",
            "0  49.0   3.0   7.0\n",
            "1   NaN   NaN  21.0\n",
            "2  12.0  72.0  44.0\n",
            "3  34.0  69.0  32.0\n",
            "4  95.0  79.0   NaN\n",
            "5   NaN   NaN  86.0\n",
            "6  71.0  93.0  42.0\n",
            "7  71.0  92.0   NaN\n",
            "8  23.0  27.0   7.0\n",
            "9   6.0  91.0  20.0\n",
            "Dataset after Listwise Deletion:\n",
            "      A     B     C\n",
            "0  49.0   3.0   7.0\n",
            "2  12.0  72.0  44.0\n",
            "3  34.0  69.0  32.0\n",
            "6  71.0  93.0  42.0\n",
            "8  23.0  27.0   7.0\n",
            "9   6.0  91.0  20.0\n"
          ]
        }
      ],
      "source": [
        "'''Problem A1,A2,A3.a-List-Wise Deletion'''\n",
        "import numpy as np\n",
        "from numpy import nan\n",
        "import pandas as pd\n",
        "\n",
        "np.random.seed(50)\n",
        "random_data= {\n",
        "        'A':np.random.randint(1,100,10),\n",
        "        'B':np.random.randint(1,100,10),\n",
        "        'C':np.random.randint(1,100,10)\n",
        "\n",
        "}\n",
        "my_table=pd.DataFrame(random_data)\n",
        "my_table.loc[np.random.choice(range(10), size=2, replace=False),'B']=np.nan\n",
        "my_table.loc[np.random.choice(range(10), size=2, replace=False),'C']=np.nan\n",
        "my_table.loc[np.random.choice(range(10), size=2, replace=False),'A']=np.nan\n",
        "print(my_table)\n",
        "\n",
        "table_drop=my_table.dropna()\n",
        "print('Dataset after Listwise Deletion:')\n",
        "print(table_drop)\n",
        "\n",
        "\n",
        "\n",
        "\n"
      ]
    },
    {
      "cell_type": "code",
      "source": [
        "'''Problem A3.b-Mean Imputation'''\n",
        "import numpy as np\n",
        "from numpy import nan\n",
        "import pandas as pd\n",
        "\n",
        "random_info= {\n",
        "    'A':np.random.randint(1,100,10),\n",
        "    'B':np.random.randint(1,50,10),\n",
        "    'C':np.random.randint(1,75,10)\n",
        "}\n",
        "one_table=pd.DataFrame(random_info)\n",
        "one_table.loc[np.random.choice(range(10),size=2,replace=False),'A']=np.nan\n",
        "one_table.loc[np.random.choice(range(10),size=2,replace=False),'B']=np.nan\n",
        "one_table.loc[np.random.choice(range(10),size=2,replace=False),'C']=np.nan\n",
        "print(one_table)\n",
        "\n",
        "mean_value_A=one_table['A'].mean()\n",
        "mean_value_B=one_table['B'].mean()\n",
        "mean_value_C=one_table['C'].mean()\n",
        "\n",
        "one_table['A'].fillna(value=mean_value_A, inplace=True)\n",
        "one_table['B'].fillna(value=mean_value_B, inplace=True)\n",
        "one_table['C'].fillna(value=mean_value_C, inplace=True)\n",
        "print('Dataset after Mean Imputation:')\n",
        "print(one_table)\n"
      ],
      "metadata": {
        "colab": {
          "base_uri": "https://localhost:8080/"
        },
        "id": "x6gwzhIN4ST3",
        "outputId": "3fb182b8-e7ba-4edf-9b9e-179fa8f4610b"
      },
      "execution_count": null,
      "outputs": [
        {
          "output_type": "stream",
          "name": "stdout",
          "text": [
            "      A     B     C\n",
            "0  54.0  32.0   7.0\n",
            "1  73.0   NaN   NaN\n",
            "2  36.0   1.0   NaN\n",
            "3   4.0  12.0  37.0\n",
            "4  22.0   NaN  58.0\n",
            "5  43.0  34.0  10.0\n",
            "6   NaN  15.0  60.0\n",
            "7  71.0  27.0  65.0\n",
            "8   NaN  23.0  59.0\n",
            "9  80.0  47.0  56.0\n",
            "Dataset after Mean Imputation:\n",
            "        A       B     C\n",
            "0  54.000  32.000   7.0\n",
            "1  73.000  23.875  44.0\n",
            "2  36.000   1.000  44.0\n",
            "3   4.000  12.000  37.0\n",
            "4  22.000  23.875  58.0\n",
            "5  43.000  34.000  10.0\n",
            "6  47.875  15.000  60.0\n",
            "7  71.000  27.000  65.0\n",
            "8  47.875  23.000  59.0\n",
            "9  80.000  47.000  56.0\n"
          ]
        }
      ]
    },
    {
      "cell_type": "code",
      "source": [
        "'''Problem #2A, 2B.a-Iterative Imputation'''\n",
        "\n",
        "import numpy as np\n",
        "import pandas as pd\n",
        "from sklearn.experimental import enable_iterative_imputer\n",
        "from sklearn.impute import IterativeImputer\n",
        "\n",
        "Weight_Height={\n",
        "    'Weight': np.random.randint(1,250,100),\n",
        "    'Height-Feet': np.random.randint(1,7,100),\n",
        "    'Age': np.random.randint(10,80,100)\n",
        "}\n",
        "HW_stats=pd.DataFrame(Weight_Height)\n",
        "HW_stats['Weight']=HW_stats['Weight'].mask(HW_stats['Age'].between(50,80))\n",
        "print(HW_stats)\n",
        "iter_imputer=IterativeImputer(max_iter=10, random_state=42)\n",
        "HW_imputed=iter_imputer.fit_transform(HW_stats)\n",
        "HW_imp=pd.DataFrame(HW_imputed)\n",
        "print(HW_imp.head())"
      ],
      "metadata": {
        "colab": {
          "base_uri": "https://localhost:8080/"
        },
        "id": "Bmi7Z9_nGdyv",
        "outputId": "3e6d0466-fd44-4742-f768-2afb9d3efc66"
      },
      "execution_count": null,
      "outputs": [
        {
          "output_type": "stream",
          "name": "stdout",
          "text": [
            "    Weight  Height-Feet  Age\n",
            "0      NaN            6   70\n",
            "1     65.0            5   42\n",
            "2    187.0            6   31\n",
            "3    220.0            1   13\n",
            "4    189.0            5   38\n",
            "..     ...          ...  ...\n",
            "95     NaN            1   75\n",
            "96   103.0            1   23\n",
            "97     NaN            2   63\n",
            "98     NaN            3   72\n",
            "99   157.0            1   23\n",
            "\n",
            "[100 rows x 3 columns]\n",
            "            0    1     2\n",
            "0   74.739246  6.0  70.0\n",
            "1   65.000000  5.0  42.0\n",
            "2  187.000000  6.0  31.0\n",
            "3  220.000000  1.0  13.0\n",
            "4  189.000000  5.0  38.0\n"
          ]
        }
      ]
    },
    {
      "cell_type": "code",
      "source": [
        "'''Problem 2B.b-K-Nearest Neighbor Imputation'''\n",
        "import numpy as np\n",
        "import pandas as pd\n",
        "from sklearn.impute import KNNImputer\n",
        "\n",
        "Weight_Height={\n",
        "    'Weight': np.random.randint(1,250,100),\n",
        "    'Height-Feet': np.random.randint(1,7,100),\n",
        "    'Height-Inches': np.random.randint(1,11,100)\n",
        "}\n",
        "HW_stats=pd.DataFrame(Weight_Height)\n",
        "HW_stats['Weight'].mask(HW_stats['Weight'].between (225,250),inplace=True)\n",
        "knn_imputer=KNNImputer(n_neighbors=5)\n",
        "HW_stats['Weight']=knn_imputer.fit_transform(HW_stats[['Weight']])\n",
        "print(HW_stats)"
      ],
      "metadata": {
        "colab": {
          "base_uri": "https://localhost:8080/"
        },
        "id": "ibyzzYxTWhfO",
        "outputId": "329ca7ce-272e-450c-dbb8-12666576153f"
      },
      "execution_count": null,
      "outputs": [
        {
          "output_type": "stream",
          "name": "stdout",
          "text": [
            "        Weight  Height-Feet  Height-Inches\n",
            "0   112.688889            3              3\n",
            "1    96.000000            3              1\n",
            "2   213.000000            3              1\n",
            "3   195.000000            5              9\n",
            "4   112.688889            5              6\n",
            "..         ...          ...            ...\n",
            "95   14.000000            5              1\n",
            "96   68.000000            4              2\n",
            "97  176.000000            2             10\n",
            "98   94.000000            2              5\n",
            "99  192.000000            1             10\n",
            "\n",
            "[100 rows x 3 columns]\n"
          ]
        }
      ]
    },
    {
      "cell_type": "code",
      "source": [
        "'''Problem C.1,C.2a-MLE-Like Imputation'''\n",
        "import numpy as np\n",
        "import pandas as pd\n",
        "\n",
        "\n",
        "Baseball_Player_Information={\n",
        "    'Age':np.random.randint(18,45,100),\n",
        "    'Weight':np.random.randint(125,300,100),\n",
        "    'Height-Inches':np.random.randint(65,80,100)\n",
        "}\n",
        "bball_info=pd.DataFrame(Baseball_Player_Information)\n",
        "bball_info['Weight'].mask(bball_info['Weight'] >250,inplace=True)\n",
        "mean_value_weight=bball_info['Weight'].mean()\n",
        "bball_info['Weight'].fillna(value=mean_value_weight, inplace=True)\n",
        "print(bball_info)\n"
      ],
      "metadata": {
        "colab": {
          "base_uri": "https://localhost:8080/"
        },
        "id": "ae7AkaPedj7P",
        "outputId": "522024a6-6ebb-4e8b-c153-d999d1200870"
      },
      "execution_count": null,
      "outputs": [
        {
          "output_type": "stream",
          "name": "stdout",
          "text": [
            "    Age      Weight  Height-Inches\n",
            "0    33  180.954545             77\n",
            "1    37  180.954545             68\n",
            "2    37  214.000000             71\n",
            "3    27  170.000000             76\n",
            "4    41  180.954545             73\n",
            "..  ...         ...            ...\n",
            "95   18  233.000000             65\n",
            "96   43  220.000000             78\n",
            "97   24  180.954545             70\n",
            "98   33  160.000000             75\n",
            "99   38  201.000000             77\n",
            "\n",
            "[100 rows x 3 columns]\n"
          ]
        }
      ]
    },
    {
      "cell_type": "code",
      "source": [
        "'''Problem C.2-Logistic Regression'''\n",
        "import numpy as np\n",
        "import pandas as pd\n",
        "from sklearn.linear_model import LogisticRegression\n",
        "from sklearn.linear_model import LinearRegression\n",
        "from sklearn.model_selection import train_test_split\n",
        "\n",
        "Baseball_Player_Information={\n",
        "    'Age':np.random.randint(18,45,100),\n",
        "    'Weight':np.random.randint(150,300,100),\n",
        "    'Height-inches':np.random.randint(65,80,100),\n",
        "}\n",
        "bball_info=pd.DataFrame(Baseball_Player_Information)\n",
        "bball_info['Missing_Weight']=np.where(bball_info['Age']>35,1,0)\n",
        "bball_info['Weight'].mask(bball_info['Age'] >35)\n",
        "bball_info.dropna(inplace=True)\n",
        "x=bball_info[['Age','Height-inches']]\n",
        "y=bball_info[['Missing_Weight']]\n",
        "x_train, x_test, y_train, y_test=train_test_split(x,y,test_size=0.2,random_state=42)\n",
        "log_reg=LogisticRegression()\n",
        "log_reg.fit(x_train,y_train)\n",
        "y_pred_prob=log_reg.predict_proba(x_test)\n",
        "print(y_pred_prob[:5])\n",
        "#print(bball_drop)\n"
      ],
      "metadata": {
        "colab": {
          "base_uri": "https://localhost:8080/"
        },
        "id": "gODpvKTQp4hB",
        "outputId": "ad9e5aaf-baf2-40fe-ea24-baa7aafb91f2"
      },
      "execution_count": null,
      "outputs": [
        {
          "output_type": "stream",
          "name": "stdout",
          "text": [
            "[[2.91207352e-07 9.99999709e-01]\n",
            " [1.00000000e+00 5.39827874e-14]\n",
            " [1.06587384e-05 9.99989341e-01]\n",
            " [9.85915008e-01 1.40849923e-02]\n",
            " [9.99999998e-01 1.94805086e-09]]\n"
          ]
        },
        {
          "output_type": "stream",
          "name": "stderr",
          "text": [
            "/usr/local/lib/python3.10/dist-packages/sklearn/utils/validation.py:1339: DataConversionWarning: A column-vector y was passed when a 1d array was expected. Please change the shape of y to (n_samples, ), for example using ravel().\n",
            "  y = column_or_1d(y, warn=True)\n"
          ]
        }
      ]
    }
  ]
}