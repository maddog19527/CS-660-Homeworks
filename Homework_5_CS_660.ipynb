{
  "nbformat": 4,
  "nbformat_minor": 0,
  "metadata": {
    "colab": {
      "provenance": [],
      "authorship_tag": "ABX9TyOTn43k0sEdLrolTFO0S5Sv",
      "include_colab_link": true
    },
    "kernelspec": {
      "name": "python3",
      "display_name": "Python 3"
    },
    "language_info": {
      "name": "python"
    }
  },
  "cells": [
    {
      "cell_type": "markdown",
      "metadata": {
        "id": "view-in-github",
        "colab_type": "text"
      },
      "source": [
        "<a href=\"https://colab.research.google.com/github/maddog19527/CS-660-Homeworks/blob/main/Homework_5_CS_660.ipynb\" target=\"_parent\"><img src=\"https://colab.research.google.com/assets/colab-badge.svg\" alt=\"Open In Colab\"/></a>"
      ]
    },
    {
      "cell_type": "code",
      "execution_count": null,
      "metadata": {
        "colab": {
          "base_uri": "https://localhost:8080/"
        },
        "id": "DO-zM7UIF4y3",
        "outputId": "5fcee542-91e6-4cf3-a24c-980d9e1f6ec3"
      },
      "outputs": [
        {
          "output_type": "stream",
          "name": "stdout",
          "text": [
            "Requirement already satisfied: numdifftools in /usr/local/lib/python3.10/dist-packages (0.9.41)\n",
            "Requirement already satisfied: numpy>=1.9 in /usr/local/lib/python3.10/dist-packages (from numdifftools) (1.26.4)\n",
            "Requirement already satisfied: scipy>=0.8 in /usr/local/lib/python3.10/dist-packages (from numdifftools) (1.13.1)\n"
          ]
        }
      ],
      "source": [
        "!pip install numdifftools\n",
        "import numpy as np\n",
        "import pandas as pd\n",
        "import matplotlib.pyplot as plt\n",
        "import seaborn as sns\n",
        "import sympy as sp\n",
        "from sympy import *\n",
        "from scipy.optimize import approx_fprime\n",
        "import numdifftools as nd\n",
        "from numdifftools import Hessian\n",
        "from scipy import optimize\n",
        "init_printing(use_unicode=True)"
      ]
    },
    {
      "cell_type": "markdown",
      "source": [
        "Step 1-Compute a Jacobian Matrix"
      ],
      "metadata": {
        "id": "oisZi2O3Li5V"
      }
    },
    {
      "cell_type": "code",
      "source": [
        "x,y=sp.symbols('x y', real=True)\n",
        "\n",
        "M=Matrix([[x**2+y],\n",
        " [sp.sin(x*y)]])\n",
        "print(M.jacobian([x,y]))\n",
        "\n",
        "MX=M.jacobian([x,y]).evalf(subs={x:2,y:3})\n",
        "sp.pprint(MX)"
      ],
      "metadata": {
        "colab": {
          "base_uri": "https://localhost:8080/"
        },
        "id": "6sKvTXVSLmyY",
        "outputId": "f1c0065d-426a-48f7-d885-986cbfb61d71"
      },
      "execution_count": null,
      "outputs": [
        {
          "output_type": "stream",
          "name": "stdout",
          "text": [
            "Matrix([[2*x, 1], [y*cos(x*y), x*cos(x*y)]])\n",
            "⎡      4.0              1.0       ⎤\n",
            "⎢                                 ⎥\n",
            "⎣2.8805108599511  1.92034057330073⎦\n"
          ]
        }
      ]
    },
    {
      "cell_type": "markdown",
      "source": [
        "Step 2-Compute a Hessian Matrix"
      ],
      "metadata": {
        "id": "bPEklypfRSvy"
      }
    },
    {
      "cell_type": "code",
      "source": [
        "x,y=sp.symbols('x y', real=True)\n",
        "f=3*x**2 + 2*x*y + y**2 +4*x + 5*y\n",
        "print(sp.hessian(f,[x,y]))\n",
        "\n",
        "print(sp.hessian(f,[x,y]).evalf(subs={x:5,y:8}))"
      ],
      "metadata": {
        "colab": {
          "base_uri": "https://localhost:8080/"
        },
        "id": "JtRANJtMT7u0",
        "outputId": "6441651e-7e33-4694-d6a9-fb787a79e1fe"
      },
      "execution_count": null,
      "outputs": [
        {
          "output_type": "stream",
          "name": "stdout",
          "text": [
            "Matrix([[6, 2], [2, 2]])\n",
            "Matrix([[6.00000000000000, 2.00000000000000], [2.00000000000000, 2.00000000000000]])\n"
          ]
        }
      ]
    },
    {
      "cell_type": "markdown",
      "source": [
        "Step 3-Compute the numerical Jacobian"
      ],
      "metadata": {
        "id": "t5VzTMdXbfy4"
      }
    },
    {
      "cell_type": "code",
      "source": [
        "def function(x, c0, c1):\n",
        "  return c0 * x**2 + c1 * x\n",
        "\n",
        "x=np.array([2,3])\n",
        "c0, c1=(1,200)\n",
        "epsilon=np.sqrt(np.finfo(float).eps)\n",
        "gradient=optimize.approx_fprime(x, function, epsilon, c0, c1)\n",
        "print('Numerical Gradient:', gradient)\n",
        "\n",
        "\n"
      ],
      "metadata": {
        "colab": {
          "base_uri": "https://localhost:8080/"
        },
        "id": "zYfsdHXtburq",
        "outputId": "c17db6f5-a5f8-4531-98ad-b617759525ed"
      },
      "execution_count": null,
      "outputs": [
        {
          "output_type": "stream",
          "name": "stdout",
          "text": [
            "Numerical Gradient: [[204.   0.]\n",
            " [  0. 206.]]\n"
          ]
        }
      ]
    },
    {
      "cell_type": "markdown",
      "source": [
        "Step 4-Compute the numerical Hessian"
      ],
      "metadata": {
        "id": "kMFBby8flEUo"
      }
    },
    {
      "cell_type": "code",
      "source": [
        "def function(x, y):\n",
        "  return x**2*y + (np.cos(x))*(np.sin(y))\n",
        "hfun=nd.Hessian(function)\n",
        "Numerical_Hessian=hfun(2,3)\n",
        "print('Numerical Hessian:', Numerical_Hessian)"
      ],
      "metadata": {
        "colab": {
          "base_uri": "https://localhost:8080/"
        },
        "id": "GxG5ylFnvLlU",
        "outputId": "5032edf2-0224-4e7a-9f53-ab4f8d47c347"
      },
      "execution_count": null,
      "outputs": [
        {
          "output_type": "stream",
          "name": "stdout",
          "text": [
            "Numerical Hessian: [[6.05872664]]\n"
          ]
        }
      ]
    }
  ]
}